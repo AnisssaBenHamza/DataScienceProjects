{
 "cells": [
  {
   "cell_type": "markdown",
   "id": "48fb4903",
   "metadata": {},
   "source": [
    "### Note that this is a POC for classification that could help with assigning inputs to groups automatically. \n",
    "### The dataset is relatively poor, so faulty results are expected. \n"
   ]
  },
  {
   "cell_type": "markdown",
   "id": "77e766c7",
   "metadata": {},
   "source": [
    "### Imports "
   ]
  },
  {
   "cell_type": "code",
   "execution_count": 4,
   "id": "ddc9ef67",
   "metadata": {},
   "outputs": [],
   "source": [
    "import numpy as np\n",
    "import pandas as pd\n",
    "import re\n",
    "from sklearn.naive_bayes import MultinomialNB\n",
    "import nltk\n",
    "from nltk import word_tokenize\n",
    "from sklearn.feature_extraction.text import CountVectorizer\n",
    "from sklearn.feature_extraction.text import TfidfTransformer\n",
    "from sklearn.model_selection import train_test_split\n",
    "from sklearn import svm\n",
    "from sklearn.metrics import classification_report\n",
    "import seaborn as sns\n",
    "import matplotlib.pyplot as plt"
   ]
  },
  {
   "cell_type": "markdown",
   "id": "44e48d3e",
   "metadata": {},
   "source": [
    "# Data Import and processing"
   ]
  },
  {
   "cell_type": "code",
   "execution_count": 5,
   "id": "1076f0f2",
   "metadata": {},
   "outputs": [],
   "source": [
    "# This function takes care of cleaning data by removing _ and ()\n",
    "def preprocess_input(word):\n",
    "    word = re.sub(r'_', ' ', word)\n",
    "    word = re.sub(r'\\(', '', word)\n",
    "    word = re.sub(r'\\)', '', word)\n",
    "    word = re.sub(r'\\.', ' ', word)\n",
    "    word = re.sub(r\"[^\\w\\s]\", \"\", word)\n",
    "    word = word.lower()\n",
    "\n",
    "    return word\n",
    "\n",
    "#Importing the Dataset\n",
    "df = pd.read_csv('Groups.csv')\n",
    "df.head()\n",
    "df['Groups'].value_counts()\n",
    "#nltk.download('punkt')\n",
    "\n",
    "#Processing data ina new data Frame\n",
    "X= []\n",
    "X= df['Name'].apply(preprocess_input)\n",
    "y=[]\n",
    "y= df['Groups']\n",
    "groups = pd.DataFrame()\n",
    "groups['Name']= X\n",
    "groups['Groups']= y\n",
    "\n",
    "#Converting input into numerical vectors\n",
    "vectorizer = CountVectorizer()\n",
    "vectorizer.fit(groups['Name'])\n",
    "vector = vectorizer.transform(groups['Name'])\n",
    "\n",
    "#Applying TFIDF\n",
    "tfidf_transformer = TfidfTransformer().fit(vector)\n",
    "input_tfidf= tfidf_transformer.transform(vector)\n"
   ]
  },
  {
   "cell_type": "markdown",
   "id": "539bad57",
   "metadata": {},
   "source": [
    "The TF-IDF representation is used as input because it captures the importance of each word in the dataset, which can help improve the accuracy of the classification model."
   ]
  },
  {
   "cell_type": "markdown",
   "id": "5242193f",
   "metadata": {},
   "source": [
    "#### The distribution of the groups is shown below, this distribution explains the faulty results. "
   ]
  },
  {
   "cell_type": "code",
   "execution_count": 6,
   "id": "c6d6902c",
   "metadata": {},
   "outputs": [
    {
     "data": {
      "image/png": "[encoded data removed]",
      "text/plain": [
       "<Figure size 640x480 with 1 Axes>"
      ]
     },
     "metadata": {},
     "output_type": "display_data"
    }
   ],
   "source": [
    "sns.countplot(x='Groups',data=df )\n",
    "plt.show()"
   ]
  },
  {
   "cell_type": "markdown",
   "id": "c4d955ec",
   "metadata": {},
   "source": [
    "#  MutliNomial Naive Bayes"
   ]
  },
  {
   "cell_type": "code",
   "execution_count": 7,
   "id": "e583b5cd",
   "metadata": {},
   "outputs": [],
   "source": [
    "def MultinomialNBClassify(word):   \n",
    "\n",
    "    model = MultinomialNB().fit(input_tfidf, df['Groups'])\n",
    "\n",
    "    all_predictions = model.predict(input_tfidf)\n",
    "\n",
    "    # Preprocess the input word\n",
    "    preprocessed_word = preprocess_input(word)\n",
    "\n",
    "    # Transform the preprocessed word into a vector\n",
    "    word_vector = vectorizer.transform([preprocessed_word])\n",
    "\n",
    "    # Apply TF-IDF transformation\n",
    "    tfidf_word = tfidf_transformer.transform(word_vector)\n",
    "\n",
    "    # Return the predicted group\n",
    "    prediction = model.predict(tfidf_word)\n",
    "    #print(f\"Predicted group for '{word}': {prediction[0]}\")\n",
    "    pred= prediction[0]\n",
    "    return pred\n"
   ]
  },
  {
   "cell_type": "markdown",
   "id": "1d35e241",
   "metadata": {},
   "source": [
    "# SVM"
   ]
  },
  {
   "cell_type": "code",
   "execution_count": 8,
   "id": "abc84035",
   "metadata": {},
   "outputs": [],
   "source": [
    "def SVMClassifier(word):\n",
    "    \n",
    "    X_train, X_test, y_train, y_test = train_test_split(input_tfidf, y, test_size=0.20, random_state=42)\n",
    "\n",
    "    classifier= svm.SVC(kernel='linear', gamma='auto', C=3)\n",
    "    classifier.fit(X_train,y_train)\n",
    "    y_pred= classifier.predict(X_test)\n",
    "    \n",
    "    # Preprocess the input word\n",
    "    preprocessed_word = preprocess_input(word)\n",
    "\n",
    "    # Transform the preprocessed word into a vector\n",
    "    word_vector = vectorizer.transform([preprocessed_word])\n",
    "\n",
    "    # Apply TF-IDF transformation\n",
    "    tfidf_word = tfidf_transformer.transform(word_vector)\n",
    "\n",
    "    # Return the predicted group\n",
    "    prediction = classifier.predict(tfidf_word)\n",
    "    #print(f\"Predicted group for '{word}': {prediction[0]}\")\n",
    "    pred= prediction[0]\n",
    "    return pred\n"
   ]
  },
  {
   "cell_type": "markdown",
   "id": "8b8eaab7",
   "metadata": {},
   "source": [
    "### functions"
   ]
  },
  {
   "cell_type": "code",
   "execution_count": 9,
   "id": "927394c2",
   "metadata": {},
   "outputs": [],
   "source": [
    "\n",
    "def ClassifierNB(file):\n",
    "    df = pd.read_csv(file)\n",
    "    inputs = df.columns.tolist()\n",
    "    print(inputs)\n",
    "    NB= []\n",
    "    for word in inputs :\n",
    "        new = preprocess_input(word)\n",
    "        n = MultinomialNBClassify(new)\n",
    "        NB.append(n)\n",
    "    return NB\n",
    "\n",
    "def  ClassifierSVM(file):\n",
    "    df = pd.read_csv(file)\n",
    "    inputs = df.columns.tolist()\n",
    "    print(inputs)\n",
    "\n",
    "    SVM = []\n",
    "    for word in inputs :\n",
    "        new = preprocess_input(word)\n",
    "        n= SVMClassifier(new)\n",
    "        SVM.append(n)\n",
    "    return SVM"
   ]
  },
  {
   "cell_type": "markdown",
   "id": "a623a1d4",
   "metadata": {},
   "source": [
    "#### Tests"
   ]
  },
  {
   "cell_type": "code",
   "execution_count": 10,
   "id": "303af89d",
   "metadata": {},
   "outputs": [
    {
     "name": "stdout",
     "output_type": "stream",
     "text": [
      "Predicted group for 'TV Ad': 21\n",
      "Predicted group for 'Unemployment Rate': 4\n"
     ]
    }
   ],
   "source": [
    "word0= 'TV Ad'\n",
    "testing = MultinomialNBClassify(word0)\n",
    "word1='Unemployment Rate'\n",
    "test= SVMClassifier(word1)\n",
    "\n",
    "print(f\"Predicted group for '{word0}': {testing}\")\n",
    "print(f\"Predicted group for '{word1}': {test}\")"
   ]
  },
  {
   "cell_type": "code",
   "execution_count": 11,
   "id": "563b85e3",
   "metadata": {},
   "outputs": [
    {
     "name": "stdout",
     "output_type": "stream",
     "text": [
      "['TV Ad ($)', 'Radio Ads ($)', 'Press  Ads', 'Social Media Advertisement ($)']\n",
      "[21, 23, 15, 20]\n"
     ]
    }
   ],
   "source": [
    "print(ClassifierNB('Test.csv'))"
   ]
  },
  {
   "cell_type": "code",
   "execution_count": 12,
   "id": "e4180cf5",
   "metadata": {},
   "outputs": [
    {
     "name": "stdout",
     "output_type": "stream",
     "text": [
      "['TV Ad ($)', 'Radio Ads ($)', 'Press  Ads', 'Social Media Advertisement ($)']\n",
      "[21, 8, 15, 20]\n"
     ]
    }
   ],
   "source": [
    "print(ClassifierSVM('Test.csv'))"
   ]
  },
  {
   "cell_type": "markdown",
   "id": "98f184e1",
   "metadata": {},
   "source": [
    "### trial: Implement NLP - Keras "
   ]
  },
  {
   "cell_type": "code",
   "execution_count": 24,
   "id": "f153f1b7",
   "metadata": {},
   "outputs": [],
   "source": [
    "import tensorflow as tf\n",
    "from tensorflow import keras\n",
    "import pandas as pd\n",
    "import numpy as np\n",
    "import os\n",
    "import matplotlib.pyplot as plt\n",
    "import time"
   ]
  },
  {
   "cell_type": "code",
   "execution_count": 12,
   "id": "da896415",
   "metadata": {},
   "outputs": [
    {
     "name": "stderr",
     "output_type": "stream",
     "text": [
      "[nltk_data] Downloading package stopwords to\n",
      "[nltk_data]     C:\\Users\\21628\\AppData\\Roaming\\nltk_data...\n",
      "[nltk_data]   Unzipping corpora\\stopwords.zip.\n"
     ]
    }
   ],
   "source": [
    "nltk.download('stopwords')\n",
    "from nltk.corpus import stopwords\n",
    "\n",
    "stop = set(stopwords.words(\"english\"))\n",
    "\n",
    "def remove_stopwords(text):\n",
    "    filtered_words = [word.lower() for word in text.split() if word.lower() not in stop]\n",
    "    return \" \".join(filtered_words)"
   ]
  },
  {
   "cell_type": "code",
   "execution_count": 14,
   "id": "d85688c3",
   "metadata": {},
   "outputs": [],
   "source": [
    "X = X.map(remove_stopwords)"
   ]
  },
  {
   "cell_type": "code",
   "execution_count": 16,
   "id": "bd042538",
   "metadata": {},
   "outputs": [],
   "source": [
    "from collections import Counter\n",
    "\n",
    "def counter_word(text_col):\n",
    "    count = Counter()\n",
    "    for text in text_col.values:\n",
    "        for word in text.split():\n",
    "            count[word] += 1\n",
    "    return count\n",
    "\n",
    "\n",
    "counter = counter_word(X)"
   ]
  },
  {
   "cell_type": "code",
   "execution_count": 17,
   "id": "de581c85",
   "metadata": {},
   "outputs": [
    {
     "data": {
      "text/plain": [
       "365"
      ]
     },
     "execution_count": 17,
     "metadata": {},
     "output_type": "execute_result"
    }
   ],
   "source": [
    "len(counter)"
   ]
  },
  {
   "cell_type": "code",
   "execution_count": 20,
   "id": "964ade0f",
   "metadata": {},
   "outputs": [],
   "source": [
    "num_unique_words = len(counter)"
   ]
  },
  {
   "cell_type": "code",
   "execution_count": 22,
   "id": "9d6fe4af",
   "metadata": {},
   "outputs": [],
   "source": [
    "# Split dataset into training and validation set\n",
    "\n",
    "X_train, X_test, y_train, y_test = train_test_split(X, y, test_size=0.20, random_state=42)\n",
    "\n",
    "# split text and labels\n",
    "train_sentences = X_train.to_numpy()\n",
    "train_labels = y_train.to_numpy()\n",
    "val_sentences = X_test.to_numpy()\n",
    "val_labels = y_test.to_numpy()"
   ]
  },
  {
   "cell_type": "code",
   "execution_count": 24,
   "id": "a2664eab",
   "metadata": {},
   "outputs": [],
   "source": [
    "# Tokenize\n",
    "from tensorflow.keras.preprocessing.text import Tokenizer\n",
    "\n",
    "# vectorize a text corpus by turning each text into a sequence of integers\n",
    "tokenizer = Tokenizer(num_words=num_unique_words)\n",
    "tokenizer.fit_on_texts(train_sentences) # fit only to training"
   ]
  },
  {
   "cell_type": "code",
   "execution_count": 25,
   "id": "69802d12",
   "metadata": {},
   "outputs": [],
   "source": [
    "# each word has unique index\n",
    "word_index = tokenizer.word_index"
   ]
  },
  {
   "cell_type": "code",
   "execution_count": 26,
   "id": "99c774f5",
   "metadata": {},
   "outputs": [
    {
     "data": {
      "text/plain": [
       "{'spend': 1,\n",
       " 'marketing': 2,\n",
       " 'investment': 3,\n",
       " 'press': 4,\n",
       " 'sales': 5,\n",
       " 'rate': 6,\n",
       " 'store': 7,\n",
       " 'online': 8,\n",
       " 'tv': 9,\n",
       " 'index': 10,\n",
       " 'day': 11,\n",
       " 'mrp': 12,\n",
       " 'percentage': 13,\n",
       " 'box': 14,\n",
       " 'office': 15,\n",
       " 'discount': 16,\n",
       " 'promo': 17,\n",
       " 'paid': 18,\n",
       " 'bv': 19,\n",
       " '2': 20,\n",
       " 'cc': 21,\n",
       " 'social': 22,\n",
       " 'media': 23,\n",
       " 'advertising': 24,\n",
       " 'direct': 25,\n",
       " 'mail': 26,\n",
       " 'value': 27,\n",
       " 'trade': 28,\n",
       " 'price': 29,\n",
       " 'search': 30,\n",
       " 'product': 31,\n",
       " 'winter': 32,\n",
       " 'distribution': 33,\n",
       " 'digital': 34,\n",
       " 'money': 35,\n",
       " 'competitor': 36,\n",
       " 'retail': 37,\n",
       " 'revenue': 38,\n",
       " 'stores': 39,\n",
       " 'radio': 40,\n",
       " 'total': 41,\n",
       " 'content': 42,\n",
       " 'screen': 43,\n",
       " 'distribtion': 44,\n",
       " 'promotion': 45,\n",
       " 'multibuy': 46,\n",
       " 'sponsorship': 47,\n",
       " 'gross': 48,\n",
       " 'google': 49,\n",
       " 'ad': 50,\n",
       " 'print': 51,\n",
       " 'covid': 52,\n",
       " 'views': 53,\n",
       " 'facebook': 54,\n",
       " 'magazines': 55,\n",
       " 'audience': 56,\n",
       " 'retention': 57,\n",
       " 'cameraaccessory': 58,\n",
       " 'catalog': 59,\n",
       " 'customer': 60,\n",
       " 'lifetime': 61,\n",
       " 'summer': 62,\n",
       " 'entertainmentsmall': 63,\n",
       " 'event': 64,\n",
       " 'participation': 65,\n",
       " 'ice': 66,\n",
       " 'ecommerce': 67,\n",
       " 'cost': 68,\n",
       " 'per': 69,\n",
       " 'national': 70,\n",
       " '102': 71,\n",
       " 'olympics': 72,\n",
       " '1': 73,\n",
       " 'new': 74,\n",
       " 'sponsoring': 75,\n",
       " 'seo': 76,\n",
       " 'outdoor': 77,\n",
       " 'campaign': 78,\n",
       " 'supermarket': 79,\n",
       " 'label': 80,\n",
       " 'gaminghardware': 81,\n",
       " 'display': 82,\n",
       " 'public': 83,\n",
       " 'relations': 84,\n",
       " 'pr': 85,\n",
       " 'holidays': 86,\n",
       " 'consumer': 87,\n",
       " 'affiliate': 88,\n",
       " 'impressions': 89,\n",
       " 'email': 90,\n",
       " 'sojasun': 91,\n",
       " 'ads': 92,\n",
       " 'line': 93,\n",
       " 'easter': 94,\n",
       " 'confidence': 95,\n",
       " 'alpro': 96,\n",
       " 'backtoschool': 97,\n",
       " 'amazon': 98,\n",
       " '3': 99,\n",
       " 'market': 100,\n",
       " 'overall': 101,\n",
       " 'influencer': 102,\n",
       " 'industrial': 103,\n",
       " 'production': 104,\n",
       " 'ipi': 105,\n",
       " 'camera': 106,\n",
       " 'clv': 107,\n",
       " 'internationals': 108,\n",
       " 'womens': 109,\n",
       " 'shows': 110,\n",
       " 'exhibitions': 111,\n",
       " 'solstice': 112,\n",
       " 'pinterest': 113,\n",
       " 'twitter': 114,\n",
       " 'flyers': 115,\n",
       " 'halloween': 116,\n",
       " 'interest': 117,\n",
       " 'rates': 118,\n",
       " 'producer': 119,\n",
       " 'ppi': 120,\n",
       " 'olympic': 121,\n",
       " 'games': 122,\n",
       " 'ltv': 123,\n",
       " 'launch': 124,\n",
       " 'labor': 125,\n",
       " 'force': 126,\n",
       " 'conferences': 127,\n",
       " 'purchasing': 128,\n",
       " 'managers': 129,\n",
       " 'pmi': 130,\n",
       " 'conversion': 131,\n",
       " 'utilization': 132,\n",
       " 'opeds': 133,\n",
       " 'government': 134,\n",
       " 'budget': 135,\n",
       " 'deficit': 136,\n",
       " 'surplus': 137,\n",
       " 'skating': 138,\n",
       " 'rink': 139,\n",
       " 'attendance': 140,\n",
       " 'acquisition': 141,\n",
       " 'sem': 142,\n",
       " 'relevanc': 143,\n",
       " 'bjorg': 144,\n",
       " 'balance': 145,\n",
       " 'show': 146,\n",
       " 'debt': 147,\n",
       " 'columns': 148,\n",
       " 'seasonal': 149,\n",
       " 'dooh': 150,\n",
       " 'return': 151,\n",
       " 'roi': 152,\n",
       " 'may': 153,\n",
       " 'promotions': 154,\n",
       " 'tours': 155,\n",
       " 'economy': 156,\n",
       " 'jow': 157,\n",
       " 'live': 158,\n",
       " 'streaming': 159,\n",
       " 'teads': 160,\n",
       " 'year': 161,\n",
       " 'polls': 162,\n",
       " 'multilevel': 163,\n",
       " 'mlm': 164,\n",
       " 'networks': 165,\n",
       " 'november': 166,\n",
       " 'surveys': 167,\n",
       " 'clicks': 168,\n",
       " 'spring': 169,\n",
       " 'cleaning': 170,\n",
       " 'branded': 171,\n",
       " 'catalogue': 172,\n",
       " 'gamecddvd': 173,\n",
       " 'promotional': 174,\n",
       " 'average': 175,\n",
       " 'kits': 176,\n",
       " 'retargeting': 177,\n",
       " 'xmas': 178,\n",
       " 'engine': 179,\n",
       " 'optimization': 180,\n",
       " 'supply': 181,\n",
       " 'm1': 182,\n",
       " 'm2': 183,\n",
       " 'm3': 184,\n",
       " 'advertisements': 185,\n",
       " 'usergenerated': 186,\n",
       " 'ugc': 187,\n",
       " 'halo': 188,\n",
       " 'cpi': 189,\n",
       " 'contests': 190,\n",
       " 'television': 191,\n",
       " 'brochures': 192,\n",
       " 'rating': 193,\n",
       " 'score': 194,\n",
       " 'wholesake': 195,\n",
       " 'crr': 196,\n",
       " 'releases': 197,\n",
       " 'snow': 198,\n",
       " 'shovel': 199,\n",
       " 'supermarkets': 200,\n",
       " 'hypermarkets': 201,\n",
       " 'stories': 202,\n",
       " 'cream': 203,\n",
       " 'hot': 204,\n",
       " 'climate': 205,\n",
       " 'region': 206,\n",
       " 'agents': 207,\n",
       " 'grp': 208,\n",
       " 'uwv': 209,\n",
       " 'unique': 210,\n",
       " 'weekly': 211,\n",
       " 'visitors': 212,\n",
       " 'visitortolead': 213,\n",
       " 'ratio': 214,\n",
       " 'pdooh': 215,\n",
       " 'mothers': 216,\n",
       " 'pandemic': 217,\n",
       " 'personal': 218,\n",
       " 'selling': 219,\n",
       " 'mobile': 220,\n",
       " 'apps': 221,\n",
       " 'inapp': 222,\n",
       " 'purchases': 223,\n",
       " 'briefings': 224,\n",
       " 'years': 225,\n",
       " 'eve': 226,\n",
       " 'hanukkah': 227,\n",
       " 'turnover': 228,\n",
       " 'home': 229,\n",
       " 'advertisement': 230,\n",
       " 'tik': 231,\n",
       " 'tok': 232,\n",
       " 'channelwise': 233,\n",
       " 'rank': 234,\n",
       " 'collaborations': 235,\n",
       " 'maximum': 236,\n",
       " 'world': 237,\n",
       " 'health': 238,\n",
       " 'daily': 239,\n",
       " 'internet': 240,\n",
       " 'usage': 241,\n",
       " 'domestic': 242,\n",
       " 'gdp': 243,\n",
       " 'spotify': 244,\n",
       " 'cinema': 245,\n",
       " 'cci': 246,\n",
       " 'inflation': 247,\n",
       " 'websites': 248,\n",
       " 'fathers': 249,\n",
       " 'added': 250,\n",
       " 'reseller': 251,\n",
       " 'reddit': 252,\n",
       " 'congress': 253,\n",
       " 'acquire': 254,\n",
       " 'cta': 255,\n",
       " 'commission': 256,\n",
       " 'exchange': 257,\n",
       " 'collab': 258,\n",
       " 'partnerships': 259,\n",
       " 'dealer': 260,\n",
       " 'network': 261,\n",
       " 'thanksgiving': 262,\n",
       " 'ooh': 263,\n",
       " 'ig': 264,\n",
       " 'response': 265,\n",
       " 'wholesale': 266,\n",
       " 'distributors': 267,\n",
       " 'hybrid': 268,\n",
       " 'stationery': 269,\n",
       " 'school': 270,\n",
       " 'supplies': 271,\n",
       " 'excl': 272,\n",
       " 'meta': 273,\n",
       " 'marketplaces': 274,\n",
       " 'e': 275,\n",
       " 'g': 276,\n",
       " 'ebay': 277,\n",
       " 'interviews': 278,\n",
       " 'earth': 279,\n",
       " 'share': 280,\n",
       " 'subscription': 281,\n",
       " 'services': 282,\n",
       " 'opening': 283,\n",
       " 'weekend': 284,\n",
       " 'department': 285,\n",
       " 'productivit': 286,\n",
       " 'hashtag': 287,\n",
       " 'campaigns': 288,\n",
       " 'international': 289,\n",
       " 'partners': 290,\n",
       " 'topic': 291,\n",
       " 'convenience': 292,\n",
       " 'graduation': 293,\n",
       " 'season': 294,\n",
       " 'affiliates': 295,\n",
       " 'specialty': 296,\n",
       " 'feature': 297,\n",
       " 'lockdown': 298,\n",
       " 'impulse': 299,\n",
       " 'telemarketing': 300,\n",
       " 'franchise': 301,\n",
       " 'valentines': 302,\n",
       " 'net': 303,\n",
       " 'newspapers': 304,\n",
       " 'events': 305,\n",
       " 'video': 306,\n",
       " 'hhn': 307,\n",
       " 'mentions': 308,\n",
       " 'research': 309,\n",
       " 'intelligence': 310,\n",
       " 'area': 311,\n",
       " 'income': 312,\n",
       " 'giveaways': 313,\n",
       " 'grocery': 314,\n",
       " 'pharmacy': 315,\n",
       " 'mobility': 316,\n",
       " 'points': 317,\n",
       " 'business': 318,\n",
       " 'bci': 319}"
      ]
     },
     "execution_count": 26,
     "metadata": {},
     "output_type": "execute_result"
    }
   ],
   "source": [
    "word_index"
   ]
  },
  {
   "cell_type": "code",
   "execution_count": 27,
   "id": "9cfac210",
   "metadata": {},
   "outputs": [],
   "source": [
    "train_sequences = tokenizer.texts_to_sequences(train_sentences)\n",
    "val_sequences = tokenizer.texts_to_sequences(val_sentences)"
   ]
  },
  {
   "cell_type": "code",
   "execution_count": 221,
   "id": "d76169fe",
   "metadata": {},
   "outputs": [
    {
     "data": {
      "text/plain": [
       "((242, 5), (61, 5))"
      ]
     },
     "execution_count": 221,
     "metadata": {},
     "output_type": "execute_result"
    }
   ],
   "source": [
    "# Pad the sequences to have the same length\n",
    "from tensorflow.keras.preprocessing.sequence import pad_sequences\n",
    "\n",
    "# Max number of words in a sequence\n",
    "max_length = 5\n",
    "\n",
    "train_padded = pad_sequences(train_sequences, maxlen=max_length, padding=\"post\", truncating=\"post\")\n",
    "val_padded = pad_sequences(val_sequences, maxlen=max_length, padding=\"post\", truncating=\"post\")\n",
    "train_padded.shape, val_padded.shape"
   ]
  },
  {
   "cell_type": "code",
   "execution_count": 222,
   "id": "ea110974",
   "metadata": {},
   "outputs": [
    {
     "data": {
      "text/plain": [
       "array([54,  0,  0,  0,  0])"
      ]
     },
     "execution_count": 222,
     "metadata": {},
     "output_type": "execute_result"
    }
   ],
   "source": [
    "train_padded[2]"
   ]
  },
  {
   "cell_type": "code",
   "execution_count": 223,
   "id": "f110e3c8",
   "metadata": {},
   "outputs": [
    {
     "name": "stdout",
     "output_type": "stream",
     "text": [
      "facebook\n",
      "[54]\n",
      "[54  0  0  0  0]\n"
     ]
    }
   ],
   "source": [
    "print(train_sentences[2])\n",
    "print(train_sequences[2])\n",
    "print(train_padded[2])"
   ]
  },
  {
   "cell_type": "code",
   "execution_count": 224,
   "id": "8f208464",
   "metadata": {},
   "outputs": [],
   "source": [
    "# Check reversing the indices\n",
    "\n",
    "# flip (key, value)\n",
    "reverse_word_index = dict([(idx, word) for (word, idx) in word_index.items()])"
   ]
  },
  {
   "cell_type": "code",
   "execution_count": 225,
   "id": "f598f08e",
   "metadata": {},
   "outputs": [
    {
     "data": {
      "text/plain": [
       "{1: 'spend',\n",
       " 2: 'marketing',\n",
       " 3: 'investment',\n",
       " 4: 'press',\n",
       " 5: 'sales',\n",
       " 6: 'rate',\n",
       " 7: 'store',\n",
       " 8: 'online',\n",
       " 9: 'tv',\n",
       " 10: 'index',\n",
       " 11: 'day',\n",
       " 12: 'mrp',\n",
       " 13: 'percentage',\n",
       " 14: 'box',\n",
       " 15: 'office',\n",
       " 16: 'discount',\n",
       " 17: 'promo',\n",
       " 18: 'paid',\n",
       " 19: 'bv',\n",
       " 20: '2',\n",
       " 21: 'cc',\n",
       " 22: 'social',\n",
       " 23: 'media',\n",
       " 24: 'advertising',\n",
       " 25: 'direct',\n",
       " 26: 'mail',\n",
       " 27: 'value',\n",
       " 28: 'trade',\n",
       " 29: 'price',\n",
       " 30: 'search',\n",
       " 31: 'product',\n",
       " 32: 'winter',\n",
       " 33: 'distribution',\n",
       " 34: 'digital',\n",
       " 35: 'money',\n",
       " 36: 'competitor',\n",
       " 37: 'retail',\n",
       " 38: 'revenue',\n",
       " 39: 'stores',\n",
       " 40: 'radio',\n",
       " 41: 'total',\n",
       " 42: 'content',\n",
       " 43: 'screen',\n",
       " 44: 'distribtion',\n",
       " 45: 'promotion',\n",
       " 46: 'multibuy',\n",
       " 47: 'sponsorship',\n",
       " 48: 'gross',\n",
       " 49: 'google',\n",
       " 50: 'ad',\n",
       " 51: 'print',\n",
       " 52: 'covid',\n",
       " 53: 'views',\n",
       " 54: 'facebook',\n",
       " 55: 'magazines',\n",
       " 56: 'audience',\n",
       " 57: 'retention',\n",
       " 58: 'cameraaccessory',\n",
       " 59: 'catalog',\n",
       " 60: 'customer',\n",
       " 61: 'lifetime',\n",
       " 62: 'summer',\n",
       " 63: 'entertainmentsmall',\n",
       " 64: 'event',\n",
       " 65: 'participation',\n",
       " 66: 'ice',\n",
       " 67: 'ecommerce',\n",
       " 68: 'cost',\n",
       " 69: 'per',\n",
       " 70: 'national',\n",
       " 71: '102',\n",
       " 72: 'olympics',\n",
       " 73: '1',\n",
       " 74: 'new',\n",
       " 75: 'sponsoring',\n",
       " 76: 'seo',\n",
       " 77: 'outdoor',\n",
       " 78: 'campaign',\n",
       " 79: 'supermarket',\n",
       " 80: 'label',\n",
       " 81: 'gaminghardware',\n",
       " 82: 'display',\n",
       " 83: 'public',\n",
       " 84: 'relations',\n",
       " 85: 'pr',\n",
       " 86: 'holidays',\n",
       " 87: 'consumer',\n",
       " 88: 'affiliate',\n",
       " 89: 'impressions',\n",
       " 90: 'email',\n",
       " 91: 'sojasun',\n",
       " 92: 'ads',\n",
       " 93: 'line',\n",
       " 94: 'easter',\n",
       " 95: 'confidence',\n",
       " 96: 'alpro',\n",
       " 97: 'backtoschool',\n",
       " 98: 'amazon',\n",
       " 99: '3',\n",
       " 100: 'market',\n",
       " 101: 'overall',\n",
       " 102: 'influencer',\n",
       " 103: 'industrial',\n",
       " 104: 'production',\n",
       " 105: 'ipi',\n",
       " 106: 'camera',\n",
       " 107: 'clv',\n",
       " 108: 'internationals',\n",
       " 109: 'womens',\n",
       " 110: 'shows',\n",
       " 111: 'exhibitions',\n",
       " 112: 'solstice',\n",
       " 113: 'pinterest',\n",
       " 114: 'twitter',\n",
       " 115: 'flyers',\n",
       " 116: 'halloween',\n",
       " 117: 'interest',\n",
       " 118: 'rates',\n",
       " 119: 'producer',\n",
       " 120: 'ppi',\n",
       " 121: 'olympic',\n",
       " 122: 'games',\n",
       " 123: 'ltv',\n",
       " 124: 'launch',\n",
       " 125: 'labor',\n",
       " 126: 'force',\n",
       " 127: 'conferences',\n",
       " 128: 'purchasing',\n",
       " 129: 'managers',\n",
       " 130: 'pmi',\n",
       " 131: 'conversion',\n",
       " 132: 'utilization',\n",
       " 133: 'opeds',\n",
       " 134: 'government',\n",
       " 135: 'budget',\n",
       " 136: 'deficit',\n",
       " 137: 'surplus',\n",
       " 138: 'skating',\n",
       " 139: 'rink',\n",
       " 140: 'attendance',\n",
       " 141: 'acquisition',\n",
       " 142: 'sem',\n",
       " 143: 'relevanc',\n",
       " 144: 'bjorg',\n",
       " 145: 'balance',\n",
       " 146: 'show',\n",
       " 147: 'debt',\n",
       " 148: 'columns',\n",
       " 149: 'seasonal',\n",
       " 150: 'dooh',\n",
       " 151: 'return',\n",
       " 152: 'roi',\n",
       " 153: 'may',\n",
       " 154: 'promotions',\n",
       " 155: 'tours',\n",
       " 156: 'economy',\n",
       " 157: 'jow',\n",
       " 158: 'live',\n",
       " 159: 'streaming',\n",
       " 160: 'teads',\n",
       " 161: 'year',\n",
       " 162: 'polls',\n",
       " 163: 'multilevel',\n",
       " 164: 'mlm',\n",
       " 165: 'networks',\n",
       " 166: 'november',\n",
       " 167: 'surveys',\n",
       " 168: 'clicks',\n",
       " 169: 'spring',\n",
       " 170: 'cleaning',\n",
       " 171: 'branded',\n",
       " 172: 'catalogue',\n",
       " 173: 'gamecddvd',\n",
       " 174: 'promotional',\n",
       " 175: 'average',\n",
       " 176: 'kits',\n",
       " 177: 'retargeting',\n",
       " 178: 'xmas',\n",
       " 179: 'engine',\n",
       " 180: 'optimization',\n",
       " 181: 'supply',\n",
       " 182: 'm1',\n",
       " 183: 'm2',\n",
       " 184: 'm3',\n",
       " 185: 'advertisements',\n",
       " 186: 'usergenerated',\n",
       " 187: 'ugc',\n",
       " 188: 'halo',\n",
       " 189: 'cpi',\n",
       " 190: 'contests',\n",
       " 191: 'television',\n",
       " 192: 'brochures',\n",
       " 193: 'rating',\n",
       " 194: 'score',\n",
       " 195: 'wholesake',\n",
       " 196: 'crr',\n",
       " 197: 'releases',\n",
       " 198: 'snow',\n",
       " 199: 'shovel',\n",
       " 200: 'supermarkets',\n",
       " 201: 'hypermarkets',\n",
       " 202: 'stories',\n",
       " 203: 'cream',\n",
       " 204: 'hot',\n",
       " 205: 'climate',\n",
       " 206: 'region',\n",
       " 207: 'agents',\n",
       " 208: 'grp',\n",
       " 209: 'uwv',\n",
       " 210: 'unique',\n",
       " 211: 'weekly',\n",
       " 212: 'visitors',\n",
       " 213: 'visitortolead',\n",
       " 214: 'ratio',\n",
       " 215: 'pdooh',\n",
       " 216: 'mothers',\n",
       " 217: 'pandemic',\n",
       " 218: 'personal',\n",
       " 219: 'selling',\n",
       " 220: 'mobile',\n",
       " 221: 'apps',\n",
       " 222: 'inapp',\n",
       " 223: 'purchases',\n",
       " 224: 'briefings',\n",
       " 225: 'years',\n",
       " 226: 'eve',\n",
       " 227: 'hanukkah',\n",
       " 228: 'turnover',\n",
       " 229: 'home',\n",
       " 230: 'advertisement',\n",
       " 231: 'tik',\n",
       " 232: 'tok',\n",
       " 233: 'channelwise',\n",
       " 234: 'rank',\n",
       " 235: 'collaborations',\n",
       " 236: 'maximum',\n",
       " 237: 'world',\n",
       " 238: 'health',\n",
       " 239: 'daily',\n",
       " 240: 'internet',\n",
       " 241: 'usage',\n",
       " 242: 'domestic',\n",
       " 243: 'gdp',\n",
       " 244: 'spotify',\n",
       " 245: 'cinema',\n",
       " 246: 'cci',\n",
       " 247: 'inflation',\n",
       " 248: 'websites',\n",
       " 249: 'fathers',\n",
       " 250: 'added',\n",
       " 251: 'reseller',\n",
       " 252: 'reddit',\n",
       " 253: 'congress',\n",
       " 254: 'acquire',\n",
       " 255: 'cta',\n",
       " 256: 'commission',\n",
       " 257: 'exchange',\n",
       " 258: 'collab',\n",
       " 259: 'partnerships',\n",
       " 260: 'dealer',\n",
       " 261: 'network',\n",
       " 262: 'thanksgiving',\n",
       " 263: 'ooh',\n",
       " 264: 'ig',\n",
       " 265: 'response',\n",
       " 266: 'wholesale',\n",
       " 267: 'distributors',\n",
       " 268: 'hybrid',\n",
       " 269: 'stationery',\n",
       " 270: 'school',\n",
       " 271: 'supplies',\n",
       " 272: 'excl',\n",
       " 273: 'meta',\n",
       " 274: 'marketplaces',\n",
       " 275: 'e',\n",
       " 276: 'g',\n",
       " 277: 'ebay',\n",
       " 278: 'interviews',\n",
       " 279: 'earth',\n",
       " 280: 'share',\n",
       " 281: 'subscription',\n",
       " 282: 'services',\n",
       " 283: 'opening',\n",
       " 284: 'weekend',\n",
       " 285: 'department',\n",
       " 286: 'productivit',\n",
       " 287: 'hashtag',\n",
       " 288: 'campaigns',\n",
       " 289: 'international',\n",
       " 290: 'partners',\n",
       " 291: 'topic',\n",
       " 292: 'convenience',\n",
       " 293: 'graduation',\n",
       " 294: 'season',\n",
       " 295: 'affiliates',\n",
       " 296: 'specialty',\n",
       " 297: 'feature',\n",
       " 298: 'lockdown',\n",
       " 299: 'impulse',\n",
       " 300: 'telemarketing',\n",
       " 301: 'franchise',\n",
       " 302: 'valentines',\n",
       " 303: 'net',\n",
       " 304: 'newspapers',\n",
       " 305: 'events',\n",
       " 306: 'video',\n",
       " 307: 'hhn',\n",
       " 308: 'mentions',\n",
       " 309: 'research',\n",
       " 310: 'intelligence',\n",
       " 311: 'area',\n",
       " 312: 'income',\n",
       " 313: 'giveaways',\n",
       " 314: 'grocery',\n",
       " 315: 'pharmacy',\n",
       " 316: 'mobility',\n",
       " 317: 'points',\n",
       " 318: 'business',\n",
       " 319: 'bci'}"
      ]
     },
     "execution_count": 225,
     "metadata": {},
     "output_type": "execute_result"
    }
   ],
   "source": [
    "reverse_word_index"
   ]
  },
  {
   "cell_type": "code",
   "execution_count": 226,
   "id": "f4a359d6",
   "metadata": {},
   "outputs": [],
   "source": [
    "def decode(sequence):\n",
    "    return \" \".join([reverse_word_index.get(idx, \"?\") for idx in sequence])"
   ]
  },
  {
   "cell_type": "code",
   "execution_count": 227,
   "id": "93ff1488",
   "metadata": {},
   "outputs": [
    {
     "name": "stdout",
     "output_type": "stream",
     "text": [
      "[54]\n",
      "facebook\n"
     ]
    }
   ],
   "source": [
    "decoded_text = decode(train_sequences[2])\n",
    "\n",
    "print(train_sequences[2])\n",
    "print(decoded_text)"
   ]
  },
  {
   "cell_type": "code",
   "execution_count": 246,
   "id": "693e26a6",
   "metadata": {},
   "outputs": [
    {
     "name": "stdout",
     "output_type": "stream",
     "text": [
      "Model: \"sequential_62\"\n",
      "_________________________________________________________________\n",
      " Layer (type)                Output Shape              Param #   \n",
      "=================================================================\n",
      " embedding_59 (Embedding)    (None, 5, 16)             5840      \n",
      "                                                                 \n",
      " lstm_48 (LSTM)              (None, 16)                2112      \n",
      "                                                                 \n",
      " dense_124 (Dense)           (None, 1)                 17        \n",
      "                                                                 \n",
      "=================================================================\n",
      "Total params: 7969 (31.13 KB)\n",
      "Trainable params: 7969 (31.13 KB)\n",
      "Non-trainable params: 0 (0.00 Byte)\n",
      "_________________________________________________________________\n"
     ]
    }
   ],
   "source": [
    "# Create LSTM model\n",
    "from tensorflow.keras import layers\n",
    "\n",
    "# Embedding: https://www.tensorflow.org/tutorials/text/word_embeddings\n",
    "# Turns positive integers (indexes) into dense vectors of fixed size. (other approach could be one-hot-encoding)\n",
    "\n",
    "# Word embeddings give us a way to use an efficient, dense representation in which similar words have \n",
    "# a similar encoding. Importantly, you do not have to specify this encoding by hand. An embedding is a \n",
    "# dense vector of floating point values (the length of the vector is a parameter you specify).\n",
    "\n",
    "model = keras.models.Sequential()\n",
    "model.add(layers.Embedding(num_unique_words, 16,  input_length=max_length))\n",
    "\n",
    "# The layer will take as input an integer matrix of size (batch, input_length),\n",
    "# and the largest integer (i.e. word index) in the input should be no larger than num_words (vocabulary size).\n",
    "# Now model.output_shape is (None, input_length, 32), where `None` is the batch dimension.\n",
    "\n",
    "\n",
    "model.add(layers.LSTM(16, dropout=0.1))\n",
    "model.add(layers.Dense(1, activation=\"sigmoid\"))\n",
    "\n",
    "#model.add(layers.Dense(2, activation='softsign'))\n",
    "#model.add(layers.Dropout(0.2))\n",
    "#m#odel.add(layers.Dense(8, activation='selu'))\n",
    "#model.add(layers.LSTM(2, dropout=0.1))\n",
    "#model.add(layers.Dense(1, activation='sigmoid'))\n",
    "\n",
    "\n",
    "model.summary()"
   ]
  },
  {
   "cell_type": "code",
   "execution_count": 247,
   "id": "d7fdbf76",
   "metadata": {},
   "outputs": [],
   "source": [
    "loss = keras.losses.BinaryCrossentropy(from_logits=False)\n",
    "optim = keras.optimizers.Adam(learning_rate=0.001)\n",
    "metrics = [\"accuracy\"]\n",
    "\n",
    "model.compile(loss=loss, optimizer=optim, metrics=metrics)\n"
   ]
  },
  {
   "cell_type": "code",
   "execution_count": 248,
   "id": "ae278fa8",
   "metadata": {},
   "outputs": [
    {
     "name": "stdout",
     "output_type": "stream",
     "text": [
      "WARNING:tensorflow:6 out of the last 109 calls to <function Model.make_test_function.<locals>.test_function at 0x000002104453A8E0> triggered tf.function retracing. Tracing is expensive and the excessive number of tracings could be due to (1) creating @tf.function repeatedly in a loop, (2) passing tensors with different shapes, (3) passing Python objects instead of tensors. For (1), please define your @tf.function outside of the loop. For (2), @tf.function has reduce_retracing=True option that can avoid unnecessary retracing. For (3), please refer to https://www.tensorflow.org/guide/function#controlling_retracing and https://www.tensorflow.org/api_docs/python/tf/function for  more details.\n"
     ]
    },
    {
     "name": "stderr",
     "output_type": "stream",
     "text": [
      "WARNING:tensorflow:6 out of the last 109 calls to <function Model.make_test_function.<locals>.test_function at 0x000002104453A8E0> triggered tf.function retracing. Tracing is expensive and the excessive number of tracings could be due to (1) creating @tf.function repeatedly in a loop, (2) passing tensors with different shapes, (3) passing Python objects instead of tensors. For (1), please define your @tf.function outside of the loop. For (2), @tf.function has reduce_retracing=True option that can avoid unnecessary retracing. For (3), please refer to https://www.tensorflow.org/guide/function#controlling_retracing and https://www.tensorflow.org/api_docs/python/tf/function for  more details.\n"
     ]
    },
    {
     "name": "stdout",
     "output_type": "stream",
     "text": [
      "8/8 - 2s - loss: 0.4456 - accuracy: 0.0124 - val_loss: -2.1320e-02 - val_accuracy: 0.0000e+00 - 2s/epoch - 228ms/step\n"
     ]
    },
    {
     "data": {
      "text/plain": [
       "<keras.src.callbacks.History at 0x21012dcf550>"
      ]
     },
     "execution_count": 248,
     "metadata": {},
     "output_type": "execute_result"
    }
   ],
   "source": [
    "    model.fit(train_padded, train_labels, epochs=1, validation_data=(val_padded, val_labels), verbose=2)"
   ]
  },
  {
   "cell_type": "code",
   "execution_count": 235,
   "id": "ceaddec4",
   "metadata": {},
   "outputs": [
    {
     "name": "stdout",
     "output_type": "stream",
     "text": [
      "8/8 [==============================] - 0s 2ms/step\n"
     ]
    }
   ],
   "source": [
    "predictions = model.predict(train_padded)\n",
    "predictions = [1 if p > 0.5 else 0 for p in predictions]"
   ]
  },
  {
   "cell_type": "code",
   "execution_count": 236,
   "id": "8edd9b1e",
   "metadata": {},
   "outputs": [
    {
     "name": "stdout",
     "output_type": "stream",
     "text": [
      "['customer lifetime value clv' 'internationals womens day'\n",
      " 'trade shows exhibitions' 'summer solstice' 'radio investment'\n",
      " 'pinterest' 'facebook' 'twitter' 'flyers' 'mrp entertainmentsmall']\n",
      "[ 2 23  3 23  8 20 21 20 15 16]\n",
      "[1, 1, 1, 1, 1, 1, 1, 1, 1, 1]\n"
     ]
    }
   ],
   "source": [
    "print(train_sentences[10:20])\n",
    "\n",
    "print(train_labels[10:20])\n",
    "print(predictions[10:20])"
   ]
  },
  {
   "cell_type": "code",
   "execution_count": 25,
   "id": "3f304d71",
   "metadata": {},
   "outputs": [
    {
     "ename": "ImportError",
     "evalue": "cannot import name '__version__' from 'tensorflow.keras' (C:\\Users\\21628\\anaconda3\\Lib\\site-packages\\keras\\api\\_v2\\keras\\__init__.py)",
     "output_type": "error",
     "traceback": [
      "\u001b[1;31m---------------------------------------------------------------------------\u001b[0m",
      "\u001b[1;31mImportError\u001b[0m                               Traceback (most recent call last)",
      "Cell \u001b[1;32mIn[25], line 2\u001b[0m\n\u001b[0;32m      1\u001b[0m \u001b[38;5;28;01mfrom\u001b[39;00m \u001b[38;5;21;01mtensorflow\u001b[39;00m \u001b[38;5;28;01mimport\u001b[39;00m keras\n\u001b[1;32m----> 2\u001b[0m \u001b[38;5;28;01mfrom\u001b[39;00m \u001b[38;5;21;01mrl\u001b[39;00m\u001b[38;5;21;01m.\u001b[39;00m\u001b[38;5;21;01magents\u001b[39;00m \u001b[38;5;28;01mimport\u001b[39;00m DQNAgent\n\u001b[0;32m      3\u001b[0m \u001b[38;5;28;01mfrom\u001b[39;00m \u001b[38;5;21;01mrl\u001b[39;00m\u001b[38;5;21;01m.\u001b[39;00m\u001b[38;5;21;01mpolicy\u001b[39;00m \u001b[38;5;28;01mimport\u001b[39;00m BoltzmannQPolicy\n\u001b[0;32m      4\u001b[0m \u001b[38;5;28;01mfrom\u001b[39;00m \u001b[38;5;21;01mrl\u001b[39;00m\u001b[38;5;21;01m.\u001b[39;00m\u001b[38;5;21;01mmemory\u001b[39;00m \u001b[38;5;28;01mimport\u001b[39;00m SequentialMemory\n",
      "File \u001b[1;32m~\\anaconda3\\Lib\\site-packages\\rl\\agents\\__init__.py:1\u001b[0m\n\u001b[1;32m----> 1\u001b[0m \u001b[38;5;28;01mfrom\u001b[39;00m \u001b[38;5;21;01m.\u001b[39;00m\u001b[38;5;21;01mdqn\u001b[39;00m \u001b[38;5;28;01mimport\u001b[39;00m DQNAgent, NAFAgent, ContinuousDQNAgent\n\u001b[0;32m      2\u001b[0m \u001b[38;5;28;01mfrom\u001b[39;00m \u001b[38;5;21;01m.\u001b[39;00m\u001b[38;5;21;01mddpg\u001b[39;00m \u001b[38;5;28;01mimport\u001b[39;00m DDPGAgent\n\u001b[0;32m      3\u001b[0m \u001b[38;5;28;01mfrom\u001b[39;00m \u001b[38;5;21;01m.\u001b[39;00m\u001b[38;5;21;01mcem\u001b[39;00m \u001b[38;5;28;01mimport\u001b[39;00m CEMAgent\n",
      "File \u001b[1;32m~\\anaconda3\\Lib\\site-packages\\rl\\agents\\dqn.py:7\u001b[0m\n\u001b[0;32m      4\u001b[0m \u001b[38;5;28;01mfrom\u001b[39;00m \u001b[38;5;21;01mtensorflow\u001b[39;00m\u001b[38;5;21;01m.\u001b[39;00m\u001b[38;5;21;01mkeras\u001b[39;00m\u001b[38;5;21;01m.\u001b[39;00m\u001b[38;5;21;01mmodels\u001b[39;00m \u001b[38;5;28;01mimport\u001b[39;00m Model\n\u001b[0;32m      5\u001b[0m \u001b[38;5;28;01mfrom\u001b[39;00m \u001b[38;5;21;01mtensorflow\u001b[39;00m\u001b[38;5;21;01m.\u001b[39;00m\u001b[38;5;21;01mkeras\u001b[39;00m\u001b[38;5;21;01m.\u001b[39;00m\u001b[38;5;21;01mlayers\u001b[39;00m \u001b[38;5;28;01mimport\u001b[39;00m Lambda, Input, Layer, Dense\n\u001b[1;32m----> 7\u001b[0m \u001b[38;5;28;01mfrom\u001b[39;00m \u001b[38;5;21;01mrl\u001b[39;00m\u001b[38;5;21;01m.\u001b[39;00m\u001b[38;5;21;01mcore\u001b[39;00m \u001b[38;5;28;01mimport\u001b[39;00m Agent\n\u001b[0;32m      8\u001b[0m \u001b[38;5;28;01mfrom\u001b[39;00m \u001b[38;5;21;01mrl\u001b[39;00m\u001b[38;5;21;01m.\u001b[39;00m\u001b[38;5;21;01mpolicy\u001b[39;00m \u001b[38;5;28;01mimport\u001b[39;00m EpsGreedyQPolicy, GreedyQPolicy\n\u001b[0;32m      9\u001b[0m \u001b[38;5;28;01mfrom\u001b[39;00m \u001b[38;5;21;01mrl\u001b[39;00m\u001b[38;5;21;01m.\u001b[39;00m\u001b[38;5;21;01mutil\u001b[39;00m \u001b[38;5;28;01mimport\u001b[39;00m \u001b[38;5;241m*\u001b[39m\n",
      "File \u001b[1;32m~\\anaconda3\\Lib\\site-packages\\rl\\core.py:7\u001b[0m\n\u001b[0;32m      4\u001b[0m \u001b[38;5;28;01mimport\u001b[39;00m \u001b[38;5;21;01mnumpy\u001b[39;00m \u001b[38;5;28;01mas\u001b[39;00m \u001b[38;5;21;01mnp\u001b[39;00m\n\u001b[0;32m      5\u001b[0m \u001b[38;5;28;01mfrom\u001b[39;00m \u001b[38;5;21;01mtensorflow\u001b[39;00m\u001b[38;5;21;01m.\u001b[39;00m\u001b[38;5;21;01mkeras\u001b[39;00m\u001b[38;5;21;01m.\u001b[39;00m\u001b[38;5;21;01mcallbacks\u001b[39;00m \u001b[38;5;28;01mimport\u001b[39;00m History\n\u001b[1;32m----> 7\u001b[0m \u001b[38;5;28;01mfrom\u001b[39;00m \u001b[38;5;21;01mrl\u001b[39;00m\u001b[38;5;21;01m.\u001b[39;00m\u001b[38;5;21;01mcallbacks\u001b[39;00m \u001b[38;5;28;01mimport\u001b[39;00m (\n\u001b[0;32m      8\u001b[0m     CallbackList,\n\u001b[0;32m      9\u001b[0m     TestLogger,\n\u001b[0;32m     10\u001b[0m     TrainEpisodeLogger,\n\u001b[0;32m     11\u001b[0m     TrainIntervalLogger,\n\u001b[0;32m     12\u001b[0m     Visualizer\n\u001b[0;32m     13\u001b[0m )\n\u001b[0;32m     16\u001b[0m \u001b[38;5;28;01mclass\u001b[39;00m \u001b[38;5;21;01mAgent\u001b[39;00m:\n\u001b[0;32m     17\u001b[0m \u001b[38;5;250m    \u001b[39m\u001b[38;5;124;03m\"\"\"Abstract base class for all implemented agents.\u001b[39;00m\n\u001b[0;32m     18\u001b[0m \n\u001b[0;32m     19\u001b[0m \u001b[38;5;124;03m    Each agent interacts with the environment (as defined by the `Env` class) by first observing the\u001b[39;00m\n\u001b[1;32m   (...)\u001b[0m\n\u001b[0;32m     37\u001b[0m \u001b[38;5;124;03m        processor (`Processor` instance): See [Processor](#processor) for details.\u001b[39;00m\n\u001b[0;32m     38\u001b[0m \u001b[38;5;124;03m    \"\"\"\u001b[39;00m\n",
      "File \u001b[1;32m~\\anaconda3\\Lib\\site-packages\\rl\\callbacks.py:8\u001b[0m\n\u001b[0;32m      6\u001b[0m \u001b[38;5;28;01mimport\u001b[39;00m \u001b[38;5;21;01mnumpy\u001b[39;00m \u001b[38;5;28;01mas\u001b[39;00m \u001b[38;5;21;01mnp\u001b[39;00m\n\u001b[0;32m      7\u001b[0m \u001b[38;5;28;01mimport\u001b[39;00m \u001b[38;5;21;01mtensorflow\u001b[39;00m \u001b[38;5;28;01mas\u001b[39;00m \u001b[38;5;21;01mtf\u001b[39;00m\n\u001b[1;32m----> 8\u001b[0m \u001b[38;5;28;01mfrom\u001b[39;00m \u001b[38;5;21;01mtensorflow\u001b[39;00m\u001b[38;5;21;01m.\u001b[39;00m\u001b[38;5;21;01mkeras\u001b[39;00m \u001b[38;5;28;01mimport\u001b[39;00m __version__ \u001b[38;5;28;01mas\u001b[39;00m KERAS_VERSION\n\u001b[0;32m      9\u001b[0m \u001b[38;5;28;01mfrom\u001b[39;00m \u001b[38;5;21;01mtensorflow\u001b[39;00m\u001b[38;5;21;01m.\u001b[39;00m\u001b[38;5;21;01mpython\u001b[39;00m\u001b[38;5;21;01m.\u001b[39;00m\u001b[38;5;21;01mkeras\u001b[39;00m\u001b[38;5;21;01m.\u001b[39;00m\u001b[38;5;21;01mcallbacks\u001b[39;00m \u001b[38;5;28;01mimport\u001b[39;00m Callback \u001b[38;5;28;01mas\u001b[39;00m KerasCallback, CallbackList \u001b[38;5;28;01mas\u001b[39;00m KerasCallbackList\n\u001b[0;32m     10\u001b[0m \u001b[38;5;28;01mfrom\u001b[39;00m \u001b[38;5;21;01mtensorflow\u001b[39;00m\u001b[38;5;21;01m.\u001b[39;00m\u001b[38;5;21;01mpython\u001b[39;00m\u001b[38;5;21;01m.\u001b[39;00m\u001b[38;5;21;01mkeras\u001b[39;00m\u001b[38;5;21;01m.\u001b[39;00m\u001b[38;5;21;01mutils\u001b[39;00m\u001b[38;5;21;01m.\u001b[39;00m\u001b[38;5;21;01mgeneric_utils\u001b[39;00m \u001b[38;5;28;01mimport\u001b[39;00m Progbar\n",
      "\u001b[1;31mImportError\u001b[0m: cannot import name '__version__' from 'tensorflow.keras' (C:\\Users\\21628\\anaconda3\\Lib\\site-packages\\keras\\api\\_v2\\keras\\__init__.py)"
     ]
    }
   ],
   "source": [
    "from tensorflow import keras\n",
    "from rl.agents import DQNAgent\n",
    "from rl.policy import BoltzmannQPolicy\n",
    "from rl.memory import SequentialMemory"
   ]
  },
  {
   "cell_type": "code",
   "execution_count": 26,
   "id": "fc482b7a",
   "metadata": {},
   "outputs": [
    {
     "name": "stdout",
     "output_type": "stream",
     "text": [
      "3.11.3 | packaged by Anaconda, Inc. | (main, Apr 19 2023, 23:46:34) [MSC v.1916 64 bit (AMD64)]\n"
     ]
    }
   ],
   "source": [
    "import sys\n",
    "\n",
    "print(sys.version)\n"
   ]
  },
  {
   "cell_type": "code",
   "execution_count": 13,
   "id": "1a3233a1",
   "metadata": {},
   "outputs": [],
   "source": [
    "import tensorflow as tf\n",
    "import tensorflow_hub as hub\n",
    "import tensorflow_text as text"
   ]
  },
  {
   "cell_type": "code",
   "execution_count": 15,
   "id": "17263a80",
   "metadata": {},
   "outputs": [],
   "source": [
    "from sklearn.model_selection import train_test_split\n",
    "\n",
    "X_train, X_test, y_train, y_test = train_test_split(X,y,test_size=0.20, random_state=42 )"
   ]
  },
  {
   "cell_type": "code",
   "execution_count": 16,
   "id": "d4977ccc",
   "metadata": {},
   "outputs": [],
   "source": [
    "bert_preprocess = hub.KerasLayer(\"https://tfhub.dev/tensorflow/bert_en_uncased_preprocess/3\")\n",
    "bert_encoder = hub.KerasLayer(\"https://tfhub.dev/tensorflow/bert_en_uncased_L-12_H-768_A-12/4\")"
   ]
  },
  {
   "cell_type": "code",
   "execution_count": 22,
   "id": "a85e851d",
   "metadata": {},
   "outputs": [],
   "source": [
    "# Bert layers\n",
    "text_input = tf.keras.layers.Input(shape=(), dtype=tf.string, name='text')\n",
    "preprocessed_text = bert_preprocess(text_input)\n",
    "outputs = bert_encoder(preprocessed_text)\n",
    "\n",
    "# Neural network layers\n",
    "l = tf.keras.layers.Dense(4, activation='selu', name=\"output\")(l)\n",
    "l = tf.keras.layers.Dropout(0.1, name=\"dropout\")(outputs['pooled_output'])\n",
    "l = tf.keras.layers.Dense(1, activation='sigmoid', name=\"output\")(l)\n",
    "\n",
    "# Use inputs and outputs to construct a final model\n",
    "model = tf.keras.Model(inputs=[text_input], outputs = [l])"
   ]
  },
  {
   "cell_type": "code",
   "execution_count": 23,
   "id": "d5c72945",
   "metadata": {},
   "outputs": [
    {
     "name": "stdout",
     "output_type": "stream",
     "text": [
      "Model: \"model_1\"\n",
      "__________________________________________________________________________________________________\n",
      " Layer (type)                   Output Shape         Param #     Connected to                     \n",
      "==================================================================================================\n",
      " text (InputLayer)              [(None,)]            0           []                               \n",
      "                                                                                                  \n",
      " keras_layer (KerasLayer)       {'input_word_ids':   0           ['text[0][0]']                   \n",
      "                                (None, 128),                                                      \n",
      "                                 'input_type_ids':                                                \n",
      "                                (None, 128),                                                      \n",
      "                                 'input_mask': (Non                                               \n",
      "                                e, 128)}                                                          \n",
      "                                                                                                  \n",
      " keras_layer_1 (KerasLayer)     {'encoder_outputs':  109482241   ['keras_layer[1][0]',            \n",
      "                                 [(None, 128, 768),               'keras_layer[1][1]',            \n",
      "                                 (None, 128, 768),                'keras_layer[1][2]']            \n",
      "                                 (None, 128, 768),                                                \n",
      "                                 (None, 128, 768),                                                \n",
      "                                 (None, 128, 768),                                                \n",
      "                                 (None, 128, 768),                                                \n",
      "                                 (None, 128, 768),                                                \n",
      "                                 (None, 128, 768),                                                \n",
      "                                 (None, 128, 768),                                                \n",
      "                                 (None, 128, 768),                                                \n",
      "                                 (None, 128, 768),                                                \n",
      "                                 (None, 128, 768)],                                               \n",
      "                                 'sequence_output':                                               \n",
      "                                 (None, 128, 768),                                                \n",
      "                                 'default': (None,                                                \n",
      "                                768),                                                             \n",
      "                                 'pooled_output': (                                               \n",
      "                                None, 768)}                                                       \n",
      "                                                                                                  \n",
      " dropout (Dropout)              (None, 768)          0           ['keras_layer_1[1][13]']         \n",
      "                                                                                                  \n",
      " output (Dense)                 (None, 1)            769         ['dropout[0][0]']                \n",
      "                                                                                                  \n",
      "==================================================================================================\n",
      "Total params: 109,483,010\n",
      "Trainable params: 769\n",
      "Non-trainable params: 109,482,241\n",
      "__________________________________________________________________________________________________\n"
     ]
    }
   ],
   "source": [
    "model.summary()"
   ]
  },
  {
   "cell_type": "code",
   "execution_count": 24,
   "id": "16e0b5b3",
   "metadata": {},
   "outputs": [
    {
     "data": {
      "text/plain": [
       "242"
      ]
     },
     "execution_count": 24,
     "metadata": {},
     "output_type": "execute_result"
    }
   ],
   "source": [
    "len(X_train)"
   ]
  },
  {
   "cell_type": "code",
   "execution_count": 25,
   "id": "f2a3b7c2",
   "metadata": {},
   "outputs": [],
   "source": [
    "METRICS = [\n",
    "      tf.keras.metrics.BinaryAccuracy(name='accuracy'),\n",
    "      tf.keras.metrics.Precision(name='precision'),\n",
    "      tf.keras.metrics.Recall(name='recall')\n",
    "]\n",
    "\n",
    "model.compile(optimizer='adam',\n",
    "              loss='binary_crossentropy',\n",
    "              metrics=METRICS)"
   ]
  },
  {
   "cell_type": "code",
   "execution_count": 26,
   "id": "cc4f6c62",
   "metadata": {},
   "outputs": [
    {
     "name": "stdout",
     "output_type": "stream",
     "text": [
      "Epoch 1/5\n",
      "8/8 [==============================] - 31s 4s/step - loss: -30.7387 - accuracy: 0.0000e+00 - precision: 0.9545 - recall: 1.0000\n",
      "Epoch 2/5\n",
      "8/8 [==============================] - 29s 4s/step - loss: -65.6349 - accuracy: 0.0000e+00 - precision: 0.9545 - recall: 1.0000\n",
      "Epoch 3/5\n",
      "8/8 [==============================] - 29s 4s/step - loss: -101.6709 - accuracy: 0.0000e+00 - precision: 0.9545 - recall: 1.0000\n",
      "Epoch 4/5\n",
      "8/8 [==============================] - 29s 4s/step - loss: -136.7372 - accuracy: 0.0000e+00 - precision: 0.9545 - recall: 1.0000\n",
      "Epoch 5/5\n",
      "8/8 [==============================] - 32s 4s/step - loss: -171.4163 - accuracy: 0.0000e+00 - precision: 0.9545 - recall: 1.0000\n"
     ]
    },
    {
     "data": {
      "text/plain": [
       "<keras.callbacks.History at 0x2330712e208>"
      ]
     },
     "execution_count": 26,
     "metadata": {},
     "output_type": "execute_result"
    }
   ],
   "source": [
    "model.fit(X_train, y_train, epochs=5)"
   ]
  },
  {
   "cell_type": "code",
   "execution_count": null,
   "id": "c274d905",
   "metadata": {},
   "outputs": [],
   "source": []
  },
  {
   "cell_type": "code",
   "execution_count": null,
   "id": "16170a92",
   "metadata": {},
   "outputs": [],
   "source": []
  }
 ],
 "metadata": {
  "kernelspec": {
   "display_name": "Python 3 (ipykernel)",
   "language": "python",
   "name": "python3"
  },
  "language_info": {
   "codemirror_mode": {
    "name": "ipython",
    "version": 3
   },
   "file_extension": ".py",
   "mimetype": "text/x-python",
   "name": "python",
   "nbconvert_exporter": "python",
   "pygments_lexer": "ipython3",
   "version": "3.7.16"
  }
 },
 "nbformat": 4,
 "nbformat_minor": 5
}
